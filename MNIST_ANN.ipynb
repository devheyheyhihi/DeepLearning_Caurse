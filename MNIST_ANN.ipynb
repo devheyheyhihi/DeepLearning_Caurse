{
 "cells": [
  {
   "cell_type": "code",
   "execution_count": 2,
   "metadata": {},
   "outputs": [],
   "source": [
    "import tensorflow as tf"
   ]
  },
  {
   "cell_type": "code",
   "execution_count": 4,
   "metadata": {},
   "outputs": [
    {
     "name": "stdout",
     "output_type": "stream",
     "text": [
      "Extracting /tmp/data/train-images-idx3-ubyte.gz\n",
      "Extracting /tmp/data/train-labels-idx1-ubyte.gz\n",
      "Extracting /tmp/data/t10k-images-idx3-ubyte.gz\n",
      "Extracting /tmp/data/t10k-labels-idx1-ubyte.gz\n"
     ]
    }
   ],
   "source": [
    "from tensorflow.examples.tutorials.mnist import input_data\n",
    "mnist = input_data.read_data_sets(\"/tmp/data\",one_hot=True)"
   ]
  },
  {
   "cell_type": "code",
   "execution_count": 5,
   "metadata": {},
   "outputs": [],
   "source": [
    "# Parameter\n",
    "learning_rate = 0.001   #보폭\n",
    "num_epochs = 30         #학습 횟수\n",
    "batch_size = 256        #배치 크기\n",
    "display_step = 1\n",
    "input_size = 784        #28 * 28 mnist 한장 이미지의 크기\n",
    "hidden1_size = 256\n",
    "hidden2_size = 256\n",
    "output_size = 10"
   ]
  },
  {
   "cell_type": "code",
   "execution_count": 6,
   "metadata": {},
   "outputs": [],
   "source": [
    "x = tf.placeholder(tf.float32, shape = [None, input_size])\n",
    "y = tf.placeholder(tf.float32, shape = [None, output_size])"
   ]
  },
  {
   "cell_type": "code",
   "execution_count": 9,
   "metadata": {},
   "outputs": [],
   "source": [
    "def build_ANN(x):\n",
    "    W1 = tf.Variable(tf.random_normal(shape=[input_size, hidden1_size]))\n",
    "    b1 = tf.Variable(tf.random_normal(shape=[hidden1_size]))\n",
    "    H1_output = tf.nn.relu(tf.matmul(x,W1)+b1)         #relu>> 액티베이션 펑션 x와 W1 위치 고정\n",
    "    \n",
    "    W2 = tf.Variable(tf.random_normal(shape=[hidden1_size, hidden2_size]))\n",
    "    b2 = tf.Variable(tf.random_normal(shape=[hidden2_size]))\n",
    "    H2_output = tf.nn.relu(tf.matmul(H1_output,W2)+b2)\n",
    "    \n",
    "   \n",
    "    \n",
    "    W_output = tf.Variable(tf.random_normal(shape=[hidden2_size, output_size]))\n",
    "    b_output = tf.Variable(tf.random_normal(shape=[output_size]))\n",
    "    logits   = tf.matmul(H2_output,W_output)+b_output\n",
    "        \n",
    "    return logits"
   ]
  },
  {
   "cell_type": "code",
   "execution_count": 10,
   "metadata": {},
   "outputs": [],
   "source": [
    "predicted_value = build_ANN(x)"
   ]
  },
  {
   "cell_type": "code",
   "execution_count": 11,
   "metadata": {},
   "outputs": [],
   "source": [
    "loss = tf.reduce_mean(tf.nn.softmax_cross_entropy_with_logits_v2(logits=predicted_value, labels = y))"
   ]
  },
  {
   "cell_type": "code",
   "execution_count": 12,
   "metadata": {},
   "outputs": [],
   "source": [
    "train_step = tf.train.AdamOptimizer(learning_rate=learning_rate).minimize(loss)"
   ]
  },
  {
   "cell_type": "code",
   "execution_count": 19,
   "metadata": {},
   "outputs": [
    {
     "name": "stdout",
     "output_type": "stream",
     "text": [
      "epoch:1, loss:281.218847\n",
      "accuracy: 0.796900\n",
      "epoch:2, loss:67.260147\n",
      "accuracy: 0.860000\n",
      "epoch:3, loss:43.888205\n",
      "accuracy: 0.881300\n",
      "epoch:4, loss:32.603116\n",
      "accuracy: 0.893400\n",
      "epoch:5, loss:25.639969\n",
      "accuracy: 0.904100\n",
      "epoch:6, loss:20.866950\n",
      "accuracy: 0.909500\n",
      "epoch:7, loss:17.135429\n",
      "accuracy: 0.911100\n",
      "epoch:8, loss:14.387796\n",
      "accuracy: 0.914300\n",
      "epoch:9, loss:11.907412\n",
      "accuracy: 0.919800\n",
      "epoch:10, loss:10.023430\n",
      "accuracy: 0.922100\n",
      "epoch:11, loss:8.454172\n",
      "accuracy: 0.923300\n",
      "epoch:12, loss:6.821509\n",
      "accuracy: 0.926600\n",
      "epoch:13, loss:5.962380\n",
      "accuracy: 0.928800\n",
      "epoch:14, loss:4.850960\n",
      "accuracy: 0.928000\n",
      "epoch:15, loss:4.076665\n",
      "accuracy: 0.931100\n",
      "epoch:16, loss:3.359496\n",
      "accuracy: 0.933800\n",
      "epoch:17, loss:2.736178\n",
      "accuracy: 0.934000\n",
      "epoch:18, loss:2.334510\n",
      "accuracy: 0.933300\n",
      "epoch:19, loss:1.910684\n",
      "accuracy: 0.934900\n",
      "epoch:20, loss:1.518891\n",
      "accuracy: 0.936000\n",
      "epoch:21, loss:1.308062\n",
      "accuracy: 0.934800\n",
      "epoch:22, loss:0.964454\n",
      "accuracy: 0.936300\n",
      "epoch:23, loss:0.826792\n",
      "accuracy: 0.934200\n",
      "epoch:24, loss:0.638899\n",
      "accuracy: 0.935700\n",
      "epoch:25, loss:0.502677\n",
      "accuracy: 0.937900\n",
      "epoch:26, loss:0.486112\n",
      "accuracy: 0.937300\n",
      "epoch:27, loss:0.360915\n",
      "accuracy: 0.937600\n",
      "epoch:28, loss:0.336818\n",
      "accuracy: 0.936400\n",
      "epoch:29, loss:0.236868\n",
      "accuracy: 0.938600\n",
      "epoch:30, loss:0.253933\n",
      "accuracy: 0.937400\n"
     ]
    }
   ],
   "source": [
    "with tf.Session() as sess:\n",
    "    sess.run(tf.global_variables_initializer())\n",
    "    \n",
    "    for epoch in range(num_epochs):        #키값은 epoch s없이 사용\n",
    "        average_loss = 0\n",
    "        #전체 배치 사이즈를 불러온다\n",
    "        total_batch = int(mnist.train.num_examples/batch_size)\n",
    "        \n",
    "        for i in range(total_batch):\n",
    "            #Mini batch 사이즈 단위로 데이터를 읽어 온다.\n",
    "            batch_x, batch_y = mnist.train.next_batch(batch_size)\n",
    "            _, current_loss = sess.run([train_step, loss], feed_dict={x:batch_x, y:batch_y})\n",
    "            # 평균 loss값을 측정한다.\n",
    "            average_loss += current_loss / total_batch\n",
    "            \n",
    "        if epoch%display_step==0:\n",
    "            print(\"epoch:%d, loss:%f\" %((epoch+1), average_loss))\n",
    "        correct_prediction = tf.equal(tf.argmax(predicted_value,1), tf.argmax(y,1)) \n",
    "        accuracy=tf.reduce_mean(tf.cast(correct_prediction, tf.float32))\n",
    "        print(\"accuracy: %f\" % (accuracy.eval(feed_dict={x:mnist.test.images, y:mnist.test.labels})))\n",
    "        #print(\"accuracy: %f\" %sess.run(accuracy, feed_dict={x:mnist.test.images, y:mnist.test.labels}))"
   ]
  },
  {
   "cell_type": "code",
   "execution_count": null,
   "metadata": {},
   "outputs": [],
   "source": []
  }
 ],
 "metadata": {
  "kernelspec": {
   "display_name": "Python 3",
   "language": "python",
   "name": "python3"
  },
  "language_info": {
   "codemirror_mode": {
    "name": "ipython",
    "version": 3
   },
   "file_extension": ".py",
   "mimetype": "text/x-python",
   "name": "python",
   "nbconvert_exporter": "python",
   "pygments_lexer": "ipython3",
   "version": "3.6.9"
  }
 },
 "nbformat": 4,
 "nbformat_minor": 2
}
